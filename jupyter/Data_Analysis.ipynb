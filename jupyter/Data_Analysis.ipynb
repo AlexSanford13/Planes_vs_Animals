{
 "cells": [
  {
   "cell_type": "markdown",
   "metadata": {},
   "source": [
    "# FAA Data Analysis: Take 1\n",
    "### This is a test analysis from the Hack Day\n"
   ]
  },
  {
   "cell_type": "markdown",
   "metadata": {},
   "source": [
    "These first two cells import the file using the CSV loader. This is a much simpler way to load it and parse the data using a tool to understand the CSV file. If I were to manually import this data, I would not as easily be able to parse through this. Using these methods I will be using a tool that much more readily can read the CSV file and show me the outputs I am looking for."
   ]
  },
  {
   "cell_type": "code",
   "execution_count": 1,
   "metadata": {},
   "outputs": [
    {
     "data": {
      "text/plain": [
       "[{'AIRPORT': 'PHILADELPHIA INTL',\n",
       "  'AIRPORT_ID': 'KPHL',\n",
       "  'ATYPE': 'B-737-800',\n",
       "  'BIRDS_SEEN': '11 to 100',\n",
       "  'BIRDS_STRUCK': '1',\n",
       "  'DAMAGE': 'M?',\n",
       "  'DISTANCE': '10',\n",
       "  'EFFECT': 'None',\n",
       "  'HEIGHT': '2500',\n",
       "  'INCIDENT_DATE': '12/14/2017 12:00:00 AM',\n",
       "  'INCIDENT_MONTH': '12',\n",
       "  'INCIDENT_YEAR': '2017',\n",
       "  'PHASE_OF_FLT': 'Approach',\n",
       "  'PRECIP': 'None',\n",
       "  'REMAINS_COLLECTED': 'True',\n",
       "  'REMAINS_SENT': 'False',\n",
       "  'REMARKS': 'Flock of geese at our altitude. One struck the right leading edge of the wing. Felt a thump. No abnormal smell indicated. Landed uneventfully. Discovered damage on post flight inspection. Large dent and hole discovered in the right leading edge of the wing.',\n",
       "  'SIZE': 'Large',\n",
       "  'SKY': 'No Cloud',\n",
       "  'SPECIES': 'Canada goose',\n",
       "  'SPECIES_ID': 'J2204',\n",
       "  'SPEED': '170',\n",
       "  'TIME': '430',\n",
       "  'TIME_OF_DAY': 'Dusk',\n",
       "  'WARNED': 'N'}]"
      ]
     },
     "execution_count": 1,
     "metadata": {},
     "output_type": "execute_result"
    }
   ],
   "source": [
    "import csv # Load up the CSV module\n",
    "\n",
    "\n",
    "with open('Pennsylvania_Condensed.csv') as file_handler:\n",
    "    reader = csv.DictReader(file_handler)     # Load the file into the CSV module\n",
    "    animal_strike_dict = [row for row in reader] # Read all the data into a variable as a list\n",
    "\n",
    "animal_strike_dict[0:1]"
   ]
  },
  {
   "cell_type": "markdown",
   "metadata": {},
   "source": [
    "## Counting the species hit by plane as a dictionary\n",
    "\n",
    "The folllowing Cell counts through each Species in the Species column of the CSV File. This will count and add the count to my created dictionary for each new value found. It will be unordered (shows up how it counts it in as it is found within the file). I imported this from the Dictionary import, rather than the list import since I can access the column by name within the header. THis allows me to not have to count the column, but rather name it."
   ]
  },
  {
   "cell_type": "code",
   "execution_count": 2,
   "metadata": {},
   "outputs": [
    {
     "name": "stdout",
     "output_type": "stream",
     "text": [
      "{'': 7, 'Baltimore oriole': 2, 'Grasshopper sparrow': 8, 'Hermit thrush': 2, 'Great horned owl': 7, 'European starling': 405, 'Ring-necked duck': 1, 'Wild turkey': 6, 'Common snapping turtle': 5, 'Finches': 6, 'Cliff swallow': 7, 'Blackpoll warbler': 1, 'Cedar waxwing': 15, 'Blackbirds': 82, 'American kestrel': 174, 'Unknown bird - small': 1223, 'Pond slider': 1, 'Raptors: Hawks, eagles, vultures, kites, osprey, f': 3, 'Unknown bird - large': 103, 'American robin': 55, 'Turtles': 5, 'Northern harrier': 2, \"Nelson's sparrow\": 1, 'Gulls': 343, 'Red-bellied woodpecker': 1, 'Palm warbler': 2, 'Ruddy duck': 1, 'Chestnut-sided warbler': 1, 'Eastern red bat': 3, 'Orioles': 3, 'Green heron': 1, 'Killdeer': 126, 'American coot': 3, 'Bald eagle': 9, 'Lesser yellowlegs': 1, 'Northern flicker': 6, 'Canada goose': 113, 'Cave swallow': 1, 'Ring-billed gull': 112, 'Yellow-bellied sapsucker': 4, 'Ducks': 33, 'Northern mockingbird': 4, 'Ruby-crowned kinglet': 2, 'Carolina wren': 1, 'Eastern box turtle': 1, 'Indigo bunting': 1, 'Eastern bluebird': 3, 'Swallows': 96, 'Wrens': 3, 'Savannah sparrow': 7, 'Striped skunk': 10, 'Microbats': 19, 'Sandpipers, curlews, phalaropes, allies': 6, 'Brown thrasher': 2, 'Eastern phoebe': 2, 'Brown-headed cowbird': 38, 'New World wood-warblers': 2, 'Red fox': 22, 'Great black-backed gull': 2, 'Semipalmated sandpiper': 1, 'Black-bellied plover': 1, 'Barn owl': 2, 'Mink': 1, 'Virginia opossum': 8, 'Little brown bat': 7, 'Yellow-bellied flycatcher': 2, 'Dark-eyed junco': 7, 'Ducks, geese, swans': 7, 'Common grackle': 10, 'Red-tailed hawk': 76, 'Purple martin': 2, 'Gray catbird': 4, 'Laughing gull': 5, 'Geese': 23, \"Wilson's snipe\": 4, 'Pectoral sandpiper': 3, 'Eastern kingbird': 6, 'Upland sandpiper': 3, 'New World Vultures': 1, 'Redhead': 1, 'Sparrows': 187, 'Rose-breasted grosbeak': 1, 'Nashville warbler': 2, 'Field sparrow': 2, 'Broad-winged hawk': 1, 'American pipit': 2, 'Mourning dove': 300, 'Common yellowthroat': 1, 'Tundra swan': 1, 'Unknown terrestrial mammal': 2, 'American tree sparrow': 1, 'Rock pigeon': 52, 'Crows': 10, 'White-tailed deer': 72, 'Blackburnian warbler': 1, 'Hawks': 71, 'Turkey vulture': 9, 'Bank swallow': 199, 'Sharp-shinned hawk': 1, 'American wigeon': 1, 'Woodpeckers': 1, 'Raccoon': 4, 'Vesper sparrow': 1, 'Yellow-rumped warbler': 2, 'Bats': 1, 'Unknown bird - medium': 887, 'White-throated sparrow': 5, 'Black-capped chickadee': 1, 'Ovenbird': 4, 'Least sandpiper': 2, 'Perching birds (z)': 3, 'Vesper bats': 2, 'Unknown bird or bat': 6, 'Osprey': 8, 'House finch': 2, 'Wood duck': 2, 'Big brown bat': 24, 'Yellow warbler': 1, 'Red-eyed vireo': 1, 'Song sparrow': 6, \"Cooper's hawk\": 6, 'Woodchuck': 25, \"Swainson's thrush\": 7, 'Hoary bat': 3, 'Snow goose': 4, 'Short-eared owl': 6, 'Sanderling': 1, 'Coyote': 12, 'Double-crested cormorant': 3, 'American goldfinch': 5, 'Great blue heron': 19, 'Perching birds (y)': 20, 'Barn swallow': 208, 'American crow': 21, 'Peregrine falcon': 10, 'Caspian tern': 1, 'Shorebirds': 1, 'Barred owl': 1, 'Tree swallow': 97, 'House sparrow': 6, 'Blue jay': 1, 'Herring gull': 9, 'Starlings': 2, 'Belted kingfisher': 4, 'Common loon': 3, 'Wood thrush': 1, 'Red-shouldered hawk': 2, 'Red-winged blackbird': 38, 'Prairie falcon': 1, 'Egrets': 1, 'Eastern cottontail': 2, 'Silver-haired bat': 2, 'Painted turtle': 1, 'Merlin': 5, 'Semipalmated plover': 3, 'Dunlin': 2, 'Pigeons, doves': 1, 'Brown pelican': 2, 'Snowy owl': 6, 'American redstart': 1, 'Foxes': 4, \"Bonaparte's gull\": 2, 'Great egret': 4, 'Bobolink': 2, 'House wren': 2, 'Fish crow': 1, 'Eastern meadowlark': 48, 'American black duck': 1, 'Swamp sparrow': 2, 'Terns': 2, 'Unknown bird': 202, 'Cackling goose': 1, 'Northern rough-winged swallow': 12, 'Horned lark': 80, 'American woodcock': 2, 'Chipping sparrow': 1, 'Snow bunting': 2, 'Pigeons': 2, 'Northern pintail': 1, 'Chimney swift': 48, 'Owls': 9, 'Mallard': 20, 'Common nighthawk': 10, 'Green-winged teal': 4, 'American golden-plover': 4}\n"
     ]
    }
   ],
   "source": [
    "# Create a dictionary to store the animals struck\n",
    "species_counter = dict()\n",
    "\n",
    "\n",
    "for row in animal_strike_dict:\n",
    "    animal = row['SPECIES']\n",
    "    if animal not in species_counter:\n",
    "        species_counter[animal] = 1\n",
    "    else:\n",
    "        species_counter[animal] += 1\n",
    "\n",
    "print(species_counter)"
   ]
  },
  {
   "cell_type": "code",
   "execution_count": 4,
   "metadata": {},
   "outputs": [
    {
     "name": "stdout",
     "output_type": "stream",
     "text": [
      "Write Complete\n"
     ]
    }
   ],
   "source": [
    "species_csv = open('species_csv.csv', 'w')\n",
    "with species_csv:\n",
    "    writer = csv.writer(species_csv)\n",
    "    writer.writerows(species_counter)\n",
    "\n",
    "print(\"Write Complete\")"
   ]
  },
  {
   "cell_type": "markdown",
   "metadata": {},
   "source": [
    "Below is more cells creating dictionaries for a variety of the columns in the CSV file. It is being read as the list within the dictionary."
   ]
  },
  {
   "cell_type": "code",
   "execution_count": 5,
   "metadata": {},
   "outputs": [
    {
     "name": "stdout",
     "output_type": "stream",
     "text": [
      "{'': 1370, 'Landing': 22, 'Take-off run': 742, 'APPROACH': 6, 'Climb': 909, 'TAKE-OFF RUN': 2, 'Landing Roll': 856, 'DEPARTURE': 1, 'Taxi': 10, 'Approach': 2108, 'Descent': 94, 'Unknown': 1, 'Landing roll': 1, 'Local': 9, 'Departure': 34, 'Arrival': 2}\n"
     ]
    }
   ],
   "source": [
    "# Create a dictionary to store the part of the flight in which the animal was struck\n",
    "flight_phase = dict()\n",
    "\n",
    "\n",
    "for row in animal_strike_dict:\n",
    "    phase = row['PHASE_OF_FLT']\n",
    "    if phase not in flight_phase:\n",
    "        flight_phase[phase] = 1\n",
    "    else:\n",
    "        flight_phase[phase] += 1\n",
    "\n",
    "print(flight_phase)"
   ]
  },
  {
   "cell_type": "code",
   "execution_count": 6,
   "metadata": {},
   "outputs": [
    {
     "name": "stdout",
     "output_type": "stream",
     "text": [
      "{'ALTOONA-BLAIR COUNTY': 21, 'BRADFORD REGIONAL': 10, 'MARIAN HELIPORT': 1, 'WILLIAMSPORT REGIONAL ARPT': 33, 'WILKES-BARRE/SCRANTON INTL': 192, 'HERITAGE FIELD ARPT': 1, 'LEHIGH VALLEY INTL': 432, 'NEW GARDEN': 1, 'ARNOLD PALMER REGIONAL': 23, 'BEAVER COUNTY ARPT': 11, 'PITTSBURGH INTL ARPT': 1611, 'BUTLER FARM SHOW': 1, 'VENANGO REGIONAL': 13, 'ROSTRAVER': 5, 'ALLEGHENY COUNTY ARPT': 83, 'CHESTER COUNTY G O CARLSON ARPT': 25, 'AIR HAVEN ARPT': 1, 'DECK ARPT': 2, 'VANSANT': 1, 'WASHINGTON COUNTY': 10, 'READING REGNL ARPT/CARL A SPAATZ FIELD': 83, 'CAPITAL CITY ARPT (PA)': 29, 'GREEN COUNTY': 1, 'FINLEYVILLE AIRPARK': 1, 'JOHN MURTHA JOHNSTOWN-CAMBRIA COUNTY ARPT': 23, 'NEW CASTLE MUNICIPAL ARPT': 1, 'ZELIENOPLE MUNICIPAL': 3, 'SPRING HILL ARPT': 1, 'SCHUYKILL COUNTY (JOE ZERBEY) ARPT': 2, 'WINGS FIELD ARPT': 6, 'UNIVERSITY PARK ARPT': 96, 'DUBOIS REGIONAL ARPT': 22, 'MUIR ARMY AIRFIELD': 2, 'MORGANTOWN ARPT': 1, 'PORT MEADVILLE ARPT': 2, 'NORTHEAST PHILADELPHIA ARPT': 57, 'ALLENTOWN QUEEN CITY MUNICIPAL': 5, 'ERIE INTL ARPT-TOM RIDGE FIELD': 147, 'DOYLESTOWN ARPT': 1, 'LANCASTER ARPT (PA)': 40, 'ALLEGHENY GEN HOSP EMERG HELIPORT': 1, 'HARRISBURG INTL': 892, 'YORK ARPT': 1, 'POCONO MOUNTAINS MUNI ARPT': 1, 'PHILADELPHIA INTL': 2267, 'GREENSBURG JEANETTE REGIONAL ARPT': 1, 'PENNS LANDING HELIPORT': 2, 'BRANDYWINE ARPT': 2}\n"
     ]
    }
   ],
   "source": [
    "# Create a dictionary to store the airport where the strike happened\n",
    "airport_count = dict()\n",
    "\n",
    "\n",
    "for row in animal_strike_dict:\n",
    "    airport = row['AIRPORT']\n",
    "    if airport not in airport_count:  # makes the rule that creates the new value if it doesn't exist\n",
    "        airport_count[airport] = 1\n",
    "    else: # counts up if the value already exists\n",
    "        airport_count[airport] += 1\n",
    "\n",
    "print(airport_count)"
   ]
  },
  {
   "cell_type": "markdown",
   "metadata": {},
   "source": [
    "Below, I created a dictionary that would import the amount of damage done. This loops over the dataset and adds up the total amount of reported data on each type. "
   ]
  },
  {
   "cell_type": "code",
   "execution_count": 7,
   "metadata": {},
   "outputs": [
    {
     "name": "stdout",
     "output_type": "stream",
     "text": [
      "{'': 1619, 'M': 205, 'S': 125, 'C': 1, 'N': 4094, 'E': 3, 'D': 1, 'M?': 119}\n"
     ]
    }
   ],
   "source": [
    "damage_counter_dictionary = dict()\n",
    "\n",
    "for row in animal_strike_dict: # Chooses the Damage Cell\n",
    "    damage = row['DAMAGE']\n",
    "    if damage not in damage_counter_dictionary:\n",
    "        damage_counter_dictionary[damage] = 1\n",
    "    else:\n",
    "        damage_counter_dictionary[damage] += 1\n",
    "\n",
    "print(damage_counter_dictionary)"
   ]
  },
  {
   "cell_type": "markdown",
   "metadata": {},
   "source": [
    "Next, I imported and then created a counter that would count using that method. This was for the same output, but would in the end create a more interesting way to analyze the data"
   ]
  },
  {
   "cell_type": "code",
   "execution_count": 8,
   "metadata": {},
   "outputs": [
    {
     "data": {
      "text/plain": [
       "Counter({'?': 119, 'C': 1, 'D': 1, 'E': 3, 'M': 324, 'N': 4094, 'S': 125})"
      ]
     },
     "execution_count": 8,
     "metadata": {},
     "output_type": "execute_result"
    }
   ],
   "source": [
    "from collections import Counter\n",
    "\n",
    "damage_counter = Counter() # Empty counter for damage\n",
    "\n",
    "for row in animal_strike_dict:\n",
    "    damage_counter.update(row['DAMAGE'])\n",
    "    \n",
    "damage_counter"
   ]
  },
  {
   "cell_type": "markdown",
   "metadata": {},
   "source": [
    "Here I took the key of damage done within the dataset, here I mapped it to the letter in the key. This way I can then show the data by how much damage was done in terms that would be understandable by people"
   ]
  },
  {
   "cell_type": "code",
   "execution_count": 9,
   "metadata": {
    "collapsed": true
   },
   "outputs": [],
   "source": [
    "#Creating the Data Dictionary from the Key on the FAA Website\n",
    "damage_lookup_dictionary = {\"N\": \"not any\",\n",
    "                            \"M\": \"minor\",\n",
    "                            \"M?\": \"unknown\",\n",
    "                            \"S\": \"substantial\",\n",
    "                            \"D\": \"destroyed\",\n",
    "                            \"A\": \"over $2,000,000 (Military)\",\n",
    "                            \"B\": \"$500,000 to $2,000,000 (Military)\",\n",
    "                            \"C\": \"$50,000 - $500,000 (Military)\",\n",
    "                            \"E\": \"less than $50,000 (Military)\",\n",
    "                            \"?\": \"an unreported amount\",}"
   ]
  },
  {
   "cell_type": "markdown",
   "metadata": {},
   "source": [
    "Finally, I took the key and displayed each output in a sentence form. I took the counter and the keys created int he cells above and created strings as outputs. These strings would take the vaiables of each information to show them in a sentence so that we could easily read and understand it."
   ]
  },
  {
   "cell_type": "code",
   "execution_count": 10,
   "metadata": {},
   "outputs": [
    {
     "name": "stdout",
     "output_type": "stream",
     "text": [
      "There was an unreported amount damage done to 119 aircraft\n",
      "There was minor damage done to 324 aircraft\n",
      "There was substantial damage done to 125 aircraft\n",
      "There was $50,000 - $500,000 (Military) damage done to 1 aircraft\n",
      "There was not any damage done to 4094 aircraft\n",
      "There was less than $50,000 (Military) damage done to 3 aircraft\n",
      "There was destroyed damage done to 1 aircraft\n"
     ]
    }
   ],
   "source": [
    "for damage_key in damage_counter:\n",
    "    damage_count = damage_counter[damage_key] # Creates Vaiable for the count\n",
    "    damage_name = damage_lookup_dictionary[damage_key] # Creats variable for the key\n",
    "    print(\"There was {} damage done to {} aircraft\".format(damage_name, damage_count))\n"
   ]
  },
  {
   "cell_type": "markdown",
   "metadata": {},
   "source": [
    "Here I take the same method of creating a dictionary of the count of each animal that was struck by a plane. THis is in dictionary form, so it isn't as mutable,."
   ]
  },
  {
   "cell_type": "code",
   "execution_count": 11,
   "metadata": {},
   "outputs": [
    {
     "name": "stdout",
     "output_type": "stream",
     "text": [
      "{'': 7, 'Baltimore oriole': 2, 'Grasshopper sparrow': 8, 'Hermit thrush': 2, 'Great horned owl': 7, 'European starling': 405, 'Ring-necked duck': 1, 'Wild turkey': 6, 'Common snapping turtle': 5, 'Finches': 6, 'Cliff swallow': 7, 'Blackpoll warbler': 1, 'Cedar waxwing': 15, 'Blackbirds': 82, 'American kestrel': 174, 'Unknown bird - small': 1223, 'Pond slider': 1, 'Raptors: Hawks, eagles, vultures, kites, osprey, f': 3, 'Unknown bird - large': 103, 'American robin': 55, 'Turtles': 5, 'Northern harrier': 2, \"Nelson's sparrow\": 1, 'Gulls': 343, 'Red-bellied woodpecker': 1, 'Palm warbler': 2, 'Ruddy duck': 1, 'Chestnut-sided warbler': 1, 'Eastern red bat': 3, 'Orioles': 3, 'Green heron': 1, 'Killdeer': 126, 'American coot': 3, 'Bald eagle': 9, 'Lesser yellowlegs': 1, 'Northern flicker': 6, 'Canada goose': 113, 'Cave swallow': 1, 'Ring-billed gull': 112, 'Yellow-bellied sapsucker': 4, 'Ducks': 33, 'Northern mockingbird': 4, 'Ruby-crowned kinglet': 2, 'Carolina wren': 1, 'Eastern box turtle': 1, 'Indigo bunting': 1, 'Eastern bluebird': 3, 'Swallows': 96, 'Wrens': 3, 'Savannah sparrow': 7, 'Striped skunk': 10, 'Microbats': 19, 'Sandpipers, curlews, phalaropes, allies': 6, 'Brown thrasher': 2, 'Eastern phoebe': 2, 'Brown-headed cowbird': 38, 'New World wood-warblers': 2, 'Red fox': 22, 'Great black-backed gull': 2, 'Semipalmated sandpiper': 1, 'Black-bellied plover': 1, 'Barn owl': 2, 'Mink': 1, 'Virginia opossum': 8, 'Little brown bat': 7, 'Yellow-bellied flycatcher': 2, 'Dark-eyed junco': 7, 'Ducks, geese, swans': 7, 'Common grackle': 10, 'Red-tailed hawk': 76, 'Purple martin': 2, 'Gray catbird': 4, 'Laughing gull': 5, 'Geese': 23, \"Wilson's snipe\": 4, 'Pectoral sandpiper': 3, 'Eastern kingbird': 6, 'Upland sandpiper': 3, 'New World Vultures': 1, 'Redhead': 1, 'Sparrows': 187, 'Rose-breasted grosbeak': 1, 'Nashville warbler': 2, 'Field sparrow': 2, 'Broad-winged hawk': 1, 'American pipit': 2, 'Mourning dove': 300, 'Common yellowthroat': 1, 'Tundra swan': 1, 'Unknown terrestrial mammal': 2, 'American tree sparrow': 1, 'Rock pigeon': 52, 'Crows': 10, 'White-tailed deer': 72, 'Blackburnian warbler': 1, 'Hawks': 71, 'Turkey vulture': 9, 'Bank swallow': 199, 'Sharp-shinned hawk': 1, 'American wigeon': 1, 'Woodpeckers': 1, 'Raccoon': 4, 'Vesper sparrow': 1, 'Yellow-rumped warbler': 2, 'Bats': 1, 'Unknown bird - medium': 887, 'White-throated sparrow': 5, 'Black-capped chickadee': 1, 'Ovenbird': 4, 'Least sandpiper': 2, 'Perching birds (z)': 3, 'Vesper bats': 2, 'Unknown bird or bat': 6, 'Osprey': 8, 'House finch': 2, 'Wood duck': 2, 'Big brown bat': 24, 'Yellow warbler': 1, 'Red-eyed vireo': 1, 'Song sparrow': 6, \"Cooper's hawk\": 6, 'Woodchuck': 25, \"Swainson's thrush\": 7, 'Hoary bat': 3, 'Snow goose': 4, 'Short-eared owl': 6, 'Sanderling': 1, 'Coyote': 12, 'Double-crested cormorant': 3, 'American goldfinch': 5, 'Great blue heron': 19, 'Perching birds (y)': 20, 'Barn swallow': 208, 'American crow': 21, 'Peregrine falcon': 10, 'Caspian tern': 1, 'Shorebirds': 1, 'Barred owl': 1, 'Tree swallow': 97, 'House sparrow': 6, 'Blue jay': 1, 'Herring gull': 9, 'Starlings': 2, 'Belted kingfisher': 4, 'Common loon': 3, 'Wood thrush': 1, 'Red-shouldered hawk': 2, 'Red-winged blackbird': 38, 'Prairie falcon': 1, 'Egrets': 1, 'Eastern cottontail': 2, 'Silver-haired bat': 2, 'Painted turtle': 1, 'Merlin': 5, 'Semipalmated plover': 3, 'Dunlin': 2, 'Pigeons, doves': 1, 'Brown pelican': 2, 'Snowy owl': 6, 'American redstart': 1, 'Foxes': 4, \"Bonaparte's gull\": 2, 'Great egret': 4, 'Bobolink': 2, 'House wren': 2, 'Fish crow': 1, 'Eastern meadowlark': 48, 'American black duck': 1, 'Swamp sparrow': 2, 'Terns': 2, 'Unknown bird': 202, 'Cackling goose': 1, 'Northern rough-winged swallow': 12, 'Horned lark': 80, 'American woodcock': 2, 'Chipping sparrow': 1, 'Snow bunting': 2, 'Pigeons': 2, 'Northern pintail': 1, 'Chimney swift': 48, 'Owls': 9, 'Mallard': 20, 'Common nighthawk': 10, 'Green-winged teal': 4, 'American golden-plover': 4}\n"
     ]
    }
   ],
   "source": [
    "species_counter_dictionary = dict()\n",
    "\n",
    "for row in animal_strike_dict: # Chooses the Damage Cell\n",
    "    species = row['SPECIES']\n",
    "    if species not in species_counter_dictionary:\n",
    "        species_counter_dictionary[species] = 1\n",
    "    else:\n",
    "        species_counter_dictionary[species] += 1\n",
    "\n",
    "print(species_counter_dictionary)"
   ]
  },
  {
   "cell_type": "markdown",
   "metadata": {},
   "source": [
    "Here I attempted to count the number of each animal that was hit by the plane. This was difficult. My first error is displayed here.\n",
    "\n",
    "\n",
    "````\n",
    "ValueError                                Traceback (most recent call last)\n",
    "<ipython-input-66-c51fc6875d37> in <module>()\n",
    "      4 \n",
    "      5 for row in animal_strike_dict:\n",
    "----> 6     species_counter.update(row['SPECIES'])\n",
    "      7 \n",
    "      8 species_counter.most_common() # Displays the counter\n",
    "\n",
    "ValueError: dictionary update sequence element #0 has length 1; 2 is required\n",
    "````\n",
    "\n",
    "After some troubleshooting I found that the error was misnaming the species_counter counter in the beginning of the for loop. This returned an error telling me that it was problematic\n",
    "\n",
    "\n",
    "Below, I fixed the issue but it was counting by letter, not by value."
   ]
  },
  {
   "cell_type": "code",
   "execution_count": 12,
   "metadata": {},
   "outputs": [
    {
     "data": {
      "text/plain": [
       "Counter({' ': 9627,\n",
       "         \"'\": 20,\n",
       "         '(': 23,\n",
       "         ')': 23,\n",
       "         ',': 48,\n",
       "         '-': 2617,\n",
       "         ':': 3,\n",
       "         'A': 270,\n",
       "         'B': 584,\n",
       "         'C': 246,\n",
       "         'D': 52,\n",
       "         'E': 471,\n",
       "         'F': 13,\n",
       "         'G': 415,\n",
       "         'H': 178,\n",
       "         'I': 1,\n",
       "         'K': 126,\n",
       "         'L': 15,\n",
       "         'M': 345,\n",
       "         'N': 31,\n",
       "         'O': 24,\n",
       "         'P': 46,\n",
       "         'R': 317,\n",
       "         'S': 350,\n",
       "         'T': 114,\n",
       "         'U': 2426,\n",
       "         'V': 12,\n",
       "         'W': 122,\n",
       "         'Y': 9,\n",
       "         'a': 5165,\n",
       "         'b': 2989,\n",
       "         'c': 754,\n",
       "         'd': 4993,\n",
       "         'e': 4652,\n",
       "         'f': 117,\n",
       "         'g': 1482,\n",
       "         'h': 480,\n",
       "         'i': 5653,\n",
       "         'j': 8,\n",
       "         'k': 3437,\n",
       "         'l': 6555,\n",
       "         'm': 3462,\n",
       "         'n': 10404,\n",
       "         'o': 5458,\n",
       "         'p': 842,\n",
       "         'r': 6245,\n",
       "         's': 3763,\n",
       "         't': 1234,\n",
       "         'u': 2303,\n",
       "         'v': 338,\n",
       "         'w': 4487,\n",
       "         'x': 42,\n",
       "         'y': 135,\n",
       "         'z': 3})"
      ]
     },
     "execution_count": 12,
     "metadata": {},
     "output_type": "execute_result"
    }
   ],
   "source": [
    "from collections import Counter # Imports the counter \n",
    "\n",
    "species_counter = Counter() # Empty counter creator\n",
    "\n",
    "for row in animal_strike_dict:\n",
    "    species_counter.update(row['SPECIES'])\n",
    "    \n",
    "species_counter # Displays the counter"
   ]
  },
  {
   "cell_type": "markdown",
   "metadata": {},
   "source": [
    "I took this code and both the dictionary and the list version and put them in a new notebook, and got the same issues.\n",
    "\n",
    "After discssing it and some troubleshooting, then seeing the issues it was a problem of mixing the more Pythonig and less Pythonic is the issue. In the previous iterations it was looking at each string as a new list and then computing the numbers one letter at a time. This next block of code is used to actually read through the strings as a whole and then count each as a string not as a letter."
   ]
  },
  {
   "cell_type": "code",
   "execution_count": 13,
   "metadata": {},
   "outputs": [
    {
     "data": {
      "text/plain": [
       "[('Unknown bird - small', 1223),\n",
       " ('Unknown bird - medium', 887),\n",
       " ('European starling', 405),\n",
       " ('Gulls', 343),\n",
       " ('Mourning dove', 300),\n",
       " ('Barn swallow', 208),\n",
       " ('Unknown bird', 202),\n",
       " ('Bank swallow', 199),\n",
       " ('Sparrows', 187),\n",
       " ('American kestrel', 174),\n",
       " ('Killdeer', 126),\n",
       " ('Canada goose', 113),\n",
       " ('Ring-billed gull', 112),\n",
       " ('Unknown bird - large', 103),\n",
       " ('Tree swallow', 97),\n",
       " ('Swallows', 96),\n",
       " ('Blackbirds', 82),\n",
       " ('Horned lark', 80),\n",
       " ('Red-tailed hawk', 76),\n",
       " ('White-tailed deer', 72),\n",
       " ('Hawks', 71),\n",
       " ('American robin', 55),\n",
       " ('Rock pigeon', 52),\n",
       " ('Eastern meadowlark', 48),\n",
       " ('Chimney swift', 48),\n",
       " ('Brown-headed cowbird', 38),\n",
       " ('Red-winged blackbird', 38),\n",
       " ('Ducks', 33),\n",
       " ('Woodchuck', 25),\n",
       " ('Big brown bat', 24),\n",
       " ('Geese', 23),\n",
       " ('Red fox', 22),\n",
       " ('American crow', 21),\n",
       " ('Perching birds (y)', 20),\n",
       " ('Mallard', 20),\n",
       " ('Microbats', 19),\n",
       " ('Great blue heron', 19),\n",
       " ('Cedar waxwing', 15),\n",
       " ('Coyote', 12),\n",
       " ('Northern rough-winged swallow', 12),\n",
       " ('Striped skunk', 10),\n",
       " ('Common grackle', 10),\n",
       " ('Crows', 10),\n",
       " ('Peregrine falcon', 10),\n",
       " ('Common nighthawk', 10),\n",
       " ('Bald eagle', 9),\n",
       " ('Turkey vulture', 9),\n",
       " ('Herring gull', 9),\n",
       " ('Owls', 9),\n",
       " ('Grasshopper sparrow', 8),\n",
       " ('Virginia opossum', 8),\n",
       " ('Osprey', 8),\n",
       " ('', 7),\n",
       " ('Great horned owl', 7),\n",
       " ('Cliff swallow', 7),\n",
       " ('Savannah sparrow', 7),\n",
       " ('Little brown bat', 7),\n",
       " ('Dark-eyed junco', 7),\n",
       " ('Ducks, geese, swans', 7),\n",
       " (\"Swainson's thrush\", 7),\n",
       " ('Wild turkey', 6),\n",
       " ('Finches', 6),\n",
       " ('Northern flicker', 6),\n",
       " ('Sandpipers, curlews, phalaropes, allies', 6),\n",
       " ('Eastern kingbird', 6),\n",
       " ('Unknown bird or bat', 6),\n",
       " ('Song sparrow', 6),\n",
       " (\"Cooper's hawk\", 6),\n",
       " ('Short-eared owl', 6),\n",
       " ('House sparrow', 6),\n",
       " ('Snowy owl', 6),\n",
       " ('Common snapping turtle', 5),\n",
       " ('Turtles', 5),\n",
       " ('Laughing gull', 5),\n",
       " ('White-throated sparrow', 5),\n",
       " ('American goldfinch', 5),\n",
       " ('Merlin', 5),\n",
       " ('Yellow-bellied sapsucker', 4),\n",
       " ('Northern mockingbird', 4),\n",
       " ('Gray catbird', 4),\n",
       " (\"Wilson's snipe\", 4),\n",
       " ('Raccoon', 4),\n",
       " ('Ovenbird', 4),\n",
       " ('Snow goose', 4),\n",
       " ('Belted kingfisher', 4),\n",
       " ('Foxes', 4),\n",
       " ('Great egret', 4),\n",
       " ('Green-winged teal', 4),\n",
       " ('American golden-plover', 4),\n",
       " ('Raptors: Hawks, eagles, vultures, kites, osprey, f', 3),\n",
       " ('Eastern red bat', 3),\n",
       " ('Orioles', 3),\n",
       " ('American coot', 3),\n",
       " ('Eastern bluebird', 3),\n",
       " ('Wrens', 3),\n",
       " ('Pectoral sandpiper', 3),\n",
       " ('Upland sandpiper', 3),\n",
       " ('Perching birds (z)', 3),\n",
       " ('Hoary bat', 3),\n",
       " ('Double-crested cormorant', 3),\n",
       " ('Common loon', 3),\n",
       " ('Semipalmated plover', 3),\n",
       " ('Baltimore oriole', 2),\n",
       " ('Hermit thrush', 2),\n",
       " ('Northern harrier', 2),\n",
       " ('Palm warbler', 2),\n",
       " ('Ruby-crowned kinglet', 2),\n",
       " ('Brown thrasher', 2),\n",
       " ('Eastern phoebe', 2),\n",
       " ('New World wood-warblers', 2),\n",
       " ('Great black-backed gull', 2),\n",
       " ('Barn owl', 2),\n",
       " ('Yellow-bellied flycatcher', 2),\n",
       " ('Purple martin', 2),\n",
       " ('Nashville warbler', 2),\n",
       " ('Field sparrow', 2),\n",
       " ('American pipit', 2),\n",
       " ('Unknown terrestrial mammal', 2),\n",
       " ('Yellow-rumped warbler', 2),\n",
       " ('Least sandpiper', 2),\n",
       " ('Vesper bats', 2),\n",
       " ('House finch', 2),\n",
       " ('Wood duck', 2),\n",
       " ('Starlings', 2),\n",
       " ('Red-shouldered hawk', 2),\n",
       " ('Eastern cottontail', 2),\n",
       " ('Silver-haired bat', 2),\n",
       " ('Dunlin', 2),\n",
       " ('Brown pelican', 2),\n",
       " (\"Bonaparte's gull\", 2),\n",
       " ('Bobolink', 2),\n",
       " ('House wren', 2),\n",
       " ('Swamp sparrow', 2),\n",
       " ('Terns', 2),\n",
       " ('American woodcock', 2),\n",
       " ('Snow bunting', 2),\n",
       " ('Pigeons', 2),\n",
       " ('Ring-necked duck', 1),\n",
       " ('Blackpoll warbler', 1),\n",
       " ('Pond slider', 1),\n",
       " (\"Nelson's sparrow\", 1),\n",
       " ('Red-bellied woodpecker', 1),\n",
       " ('Ruddy duck', 1),\n",
       " ('Chestnut-sided warbler', 1),\n",
       " ('Green heron', 1),\n",
       " ('Lesser yellowlegs', 1),\n",
       " ('Cave swallow', 1),\n",
       " ('Carolina wren', 1),\n",
       " ('Eastern box turtle', 1),\n",
       " ('Indigo bunting', 1),\n",
       " ('Semipalmated sandpiper', 1),\n",
       " ('Black-bellied plover', 1),\n",
       " ('Mink', 1),\n",
       " ('New World Vultures', 1),\n",
       " ('Redhead', 1),\n",
       " ('Rose-breasted grosbeak', 1),\n",
       " ('Broad-winged hawk', 1),\n",
       " ('Common yellowthroat', 1),\n",
       " ('Tundra swan', 1),\n",
       " ('American tree sparrow', 1),\n",
       " ('Blackburnian warbler', 1),\n",
       " ('Sharp-shinned hawk', 1),\n",
       " ('American wigeon', 1),\n",
       " ('Woodpeckers', 1),\n",
       " ('Vesper sparrow', 1),\n",
       " ('Bats', 1),\n",
       " ('Black-capped chickadee', 1),\n",
       " ('Yellow warbler', 1),\n",
       " ('Red-eyed vireo', 1),\n",
       " ('Sanderling', 1),\n",
       " ('Caspian tern', 1),\n",
       " ('Shorebirds', 1),\n",
       " ('Barred owl', 1),\n",
       " ('Blue jay', 1),\n",
       " ('Wood thrush', 1),\n",
       " ('Prairie falcon', 1),\n",
       " ('Egrets', 1),\n",
       " ('Painted turtle', 1),\n",
       " ('Pigeons, doves', 1),\n",
       " ('American redstart', 1),\n",
       " ('Fish crow', 1),\n",
       " ('American black duck', 1),\n",
       " ('Cackling goose', 1),\n",
       " ('Chipping sparrow', 1),\n",
       " ('Northern pintail', 1)]"
      ]
     },
     "execution_count": 13,
     "metadata": {},
     "output_type": "execute_result"
    }
   ],
   "source": [
    "from collections import Counter # Imports the counter \n",
    "\n",
    "species_counter = Counter([row['SPECIES'] for row in animal_strike_dict]) # Empty counter creator\n",
    "\n",
    "    \n",
    "species_counter.most_common() # Displays the counter"
   ]
  },
  {
   "cell_type": "code",
   "execution_count": 14,
   "metadata": {},
   "outputs": [
    {
     "name": "stdout",
     "output_type": "stream",
     "text": [
      "Write Complete\n"
     ]
    }
   ],
   "source": [
    "species_csv = open('species_csv.csv', 'w')\n",
    "with species_csv:\n",
    "    writer = csv.writer(species_csv)\n",
    "    writer.writerows(species_counter)\n",
    "\n",
    "print(\"Write Complete\")"
   ]
  },
  {
   "cell_type": "markdown",
   "metadata": {},
   "source": [
    "The below code is for counting the months. I attempted to use the same methods as above, so continuing to just practice this using counters and different variables to see how things change. This is dont using both just a counter and displaying them in order of month. This will give a picture of the chronological timeline of the strikes by month."
   ]
  },
  {
   "cell_type": "code",
   "execution_count": 15,
   "metadata": {},
   "outputs": [
    {
     "data": {
      "text/plain": [
       "Counter({'0': 771,\n",
       "         '1': 1902,\n",
       "         '2': 371,\n",
       "         '3': 288,\n",
       "         '4': 353,\n",
       "         '5': 543,\n",
       "         '6': 418,\n",
       "         '7': 864,\n",
       "         '8': 1274,\n",
       "         '9': 748})"
      ]
     },
     "execution_count": 15,
     "metadata": {},
     "output_type": "execute_result"
    }
   ],
   "source": [
    "from collections import Counter\n",
    "\n",
    "month_counter = Counter() # Empty counter for damage\n",
    "\n",
    "for row in animal_strike_dict:\n",
    "    month_counter.update(row['INCIDENT_MONTH'])\n",
    "    \n",
    "month_counter"
   ]
  },
  {
   "cell_type": "code",
   "execution_count": 16,
   "metadata": {
    "collapsed": true
   },
   "outputs": [],
   "source": [
    "#Creating the Data Dictionary from the Key on the FAA Website\n",
    "month_lookup_dictionary = {\"1\": \"January\",\n",
    "                            \"2\": \"February\",\n",
    "                            \"3\": \"March\",\n",
    "                            \"4\": \"April\",\n",
    "                            \"5\": \"May\",\n",
    "                            \"6\": \"June\",\n",
    "                            \"7\": \"July\",\n",
    "                            \"8\": \"August\",\n",
    "                            \"9\": \"September\",\n",
    "                            \"10\": \"October\",\n",
    "                            \"11\": \"November\",\n",
    "                            \"12\": \"December\",\n",
    "                            \"0\": \"Not Known\"}"
   ]
  },
  {
   "cell_type": "markdown",
   "metadata": {},
   "source": [
    "Below is taking the code dictionary and counter displayed abot to see the data and then output sentences to more easily read. These are displayed in order they were added to the list, so there is not a real order. I am hoping to find a way to order these sentences so I can see them in order of either time within the year, or to organize by number of strikes per month."
   ]
  },
  {
   "cell_type": "code",
   "execution_count": 17,
   "metadata": {},
   "outputs": [
    {
     "name": "stdout",
     "output_type": "stream",
     "text": [
      "In September there were 748 animal strikes\n",
      "In May there were 543 animal strikes\n",
      "In July there were 864 animal strikes\n",
      "In August there were 1274 animal strikes\n",
      "In February there were 371 animal strikes\n",
      "In January there were 1902 animal strikes\n",
      "In April there were 353 animal strikes\n",
      "In June there were 418 animal strikes\n",
      "In March there were 288 animal strikes\n",
      "In Not Known there were 771 animal strikes\n"
     ]
    }
   ],
   "source": [
    "for month_key in month_counter:\n",
    "    month_count = month_counter[month_key] # Creates Vaiable for the count\n",
    "    month_name = month_lookup_dictionary[month_key] # Creats variable for the key\n",
    "    print(\"In {} there were {} animal strikes\".format(month_name, month_count))\n"
   ]
  },
  {
   "cell_type": "markdown",
   "metadata": {},
   "source": [
    "I hope to use these tools and eventualy expand it to see per month over time. So maybe see if certain years are more frequent and if the pattern is generally seen throught this framework. I hope to maybe graph these points and see over the three decades within the data set to see the change over time."
   ]
  },
  {
   "cell_type": "markdown",
   "metadata": {},
   "source": [
    "Below is a counter that imports the infomration from month an then counts each incident by month. It then sorts these by most to least frequent months."
   ]
  },
  {
   "cell_type": "code",
   "execution_count": 18,
   "metadata": {},
   "outputs": [
    {
     "data": {
      "text/plain": [
       "[('8', 1274),\n",
       " ('7', 864),\n",
       " ('10', 771),\n",
       " ('9', 748),\n",
       " ('5', 543),\n",
       " ('6', 418),\n",
       " ('11', 391),\n",
       " ('4', 353),\n",
       " ('3', 288),\n",
       " ('12', 203),\n",
       " ('2', 168),\n",
       " ('1', 146)]"
      ]
     },
     "execution_count": 18,
     "metadata": {},
     "output_type": "execute_result"
    }
   ],
   "source": [
    "from collections import Counter # Imports the counter \n",
    "\n",
    "month_counter = Counter([row['INCIDENT_MONTH'] for row in animal_strike_dict]) # Empty counter creator\n",
    "\n",
    "    \n",
    "month_counter.most_common() # Displays the counter"
   ]
  }
 ],
 "metadata": {
  "kernelspec": {
   "display_name": "Python 3",
   "language": "python",
   "name": "python3"
  },
  "language_info": {
   "codemirror_mode": {
    "name": "ipython",
    "version": 3
   },
   "file_extension": ".py",
   "mimetype": "text/x-python",
   "name": "python",
   "nbconvert_exporter": "python",
   "pygments_lexer": "ipython3",
   "version": "3.5.3"
  }
 },
 "nbformat": 4,
 "nbformat_minor": 2
}
